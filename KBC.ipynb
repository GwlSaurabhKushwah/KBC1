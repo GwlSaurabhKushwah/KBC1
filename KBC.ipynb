{
 "cells": [
  {
   "cell_type": "markdown",
   "id": "b24f8c19",
   "metadata": {},
   "source": [
    "## All the Questions and Answers"
   ]
  },
  {
   "cell_type": "code",
   "execution_count": 2,
   "id": "6d4f47fe",
   "metadata": {},
   "outputs": [],
   "source": [
    "# All the questions store in a list.\n",
    "question_list =  [\"Q1. The International Literacy Day is observed on\", \n",
    "                           \"Q2. The language of Lakshadweep. a Union Territory of India, is\",\n",
    "                           \"Q3. In which group of places the Kumbha Mela is held every twelve years?\" , \n",
    "                           \"Q4. Bahubali festival is related to\",\n",
    "                           \"Q5. Which day is observed as the World Standards  Day?\",\n",
    "                           \"Q6. Ghototkach in Mahabharat was the son of\",\n",
    "                           \"Q7. Which of the following Muslim festivals is based on the Holy Quran\",\n",
    "                           \"Q8. Van Mahotsav was started by\",\n",
    "                           \"Q9. The first month of the Indian national calendar is\",\n",
    "                           \"Q10. Which of the following is not a dance from Kerala?\"]\n",
    "\n",
    "# All the options followed by questions\n",
    "answer_list = [('A] 8sep' , 'B] nov 9' , 'C] dec 10' , 'D] aug 10'), \n",
    "                       ('A] Tamil','B] Hind' ,'C] Malyalam' , 'D] Telugu'),\n",
    "                       (\"A] Ujjain. Purl; Prayag. Haridwar\", \"B] Prayag. Haridwar, Ujjain,. Nasik\",\"C] Rameshwaram. Purl, Badrinath. Dwarika\",\"D]Chittakoot, Ujjain, Prayag,'Haridwar\"),\n",
    "                       (\"A] Islam\",\"B]Hinduism\",\"C] Buddhism\",\"D] Jainism\"),\n",
    "                       (\"A] June 26\", \"B] oct 14 \",\"C] nov 15\",\"D] Dec 14\"),\n",
    "                       (\"A] Duryodhana\",\"B] Arjun\",\"C] Yudhistir\",\"D] Bhim\"),\n",
    "                       (\"A] Id -ul-Zuha\",\"B] Id -ul-Fitr\",\"C] Bakri - Id\",\"D] Moharram\"),\n",
    "                       (\"A] Maharshi Karve\", \"B] Bal Gangadhar Tiiak\",\"C] K.M, Munshi\",\"D] Sanjay Gandhi\"),\n",
    "                       (\"A] Magha\",\"B] Chaitra\", \"C] Ashadha\", \"D] Vaishakha\"),\n",
    "                       (\"A] Kathakali\",\"B] Mohiniattam\", \"C] Ottan Thullal\", \"D] Yaksha Gana\")]\n",
    "\n",
    "# All the correct Answers of the questions\n",
    "answers = ['A' , 'C', 'B', 'D', 'B', 'D', 'A', 'C', 'B', 'D']\n",
    "\n",
    "PassQuestion = [\"Q. Kalarippayat isthe martial art  of the State of.... \"]\n",
    "PassOption = [(\"A] Madhaya PRadesh\",\"B] Mizoram\",\"C] Nagaland\",\"D] Kerela\")]\n",
    "\n",
    "\n",
    "    \n",
    "    "
   ]
  },
  {
   "cell_type": "markdown",
   "id": "10dbc670",
   "metadata": {},
   "source": [
    "##  Main Codes"
   ]
  },
  {
   "cell_type": "code",
   "execution_count": 16,
   "id": "3da5bf24",
   "metadata": {},
   "outputs": [
    {
     "name": "stdout",
     "output_type": "stream",
     "text": [
      "Q1. The International Literacy Day is observed on\n",
      "('A] 8sep', 'B] nov 9', 'C] dec 10', 'D] aug 10')\n",
      "\n",
      "Press A/B/C/D to give the answer\n",
      "Press 2 For LifeLine: 2\n",
      "\n",
      "You have Three Life Lines \n",
      " 1] 50 - 50 Life Line  \n",
      " 2]FlipTheQuestion  \n",
      " 3] Audience Poll\n",
      "Press 1 for 50-50 \n",
      "Press 2 For Flip The Question \n",
      " Press 3 for Audience Poll3\n"
     ]
    },
    {
     "data": {
      "image/png": "[encoded data removed]",
      "text/plain": [
       "<Figure size 300x300 with 1 Axes>"
      ]
     },
     "metadata": {},
     "output_type": "display_data"
    },
    {
     "name": "stdout",
     "output_type": "stream",
     "text": [
      "Enter your answer: b\n",
      "Wrong Answer\n",
      "Wrong Answer and you are Eliminated \n",
      "\n",
      "Thanks for playing the game you win:  10 Points\n"
     ]
    }
   ],
   "source": [
    "points = [10,20,30,40,50,60,70,80,90,100]\n",
    "prize = 0\n",
    "\n",
    "for i in range(len(question_list)):\n",
    "    print(question_list[i])\n",
    "    print(answer_list[i])\n",
    "    print()\n",
    "    choice = input(\"Press A/B/C/D to give the answer\\nPress 2 For LifeLine: \").upper()\n",
    "    if choice == 'A' or choice == 'B' or choice == 'C' or choice == 'D' :\n",
    "        ans = choice\n",
    "        if ans.isalpha():\n",
    "            if ans == answers[i]:\n",
    "                print()\n",
    "                print('Right Answer and you win', points[i], \"Points\")\n",
    "                prize += points[i]\n",
    "            else:\n",
    "                prize = points[i]\n",
    "                print(\"Wrong Answer and you are Eliminated \")\n",
    "                print()\n",
    "                print(\"Thanks for playing the game you win: \", prize ,\"Points\")\n",
    "                break\n",
    "        else: \n",
    "            print(\"Enter valid input\")\n",
    "            break    \n",
    "    elif choice == '2':\n",
    "        print(\"\\nYou have Three Life Lines \\n 1] 50 - 50 Life Line  \\n 2]FlipTheQuestion  \\n 3] Audience Poll\")\n",
    "        life_line = int(input('''Press 1 for 50-50 \\nPress 2 For Flip The Question \\n Press 3 for Audience Poll'''))\n",
    "        if life_line ==1:\n",
    "            if fifty_fifty():\n",
    "                print()\n",
    "                print('Right Answer and you win', points[i], \"Points\")\n",
    "                prize += points[i]\n",
    "            else:\n",
    "                prize = points[i]\n",
    "                print(\"Wrong Answer and you are Eliminated \")\n",
    "                print()\n",
    "                print(\"Thanks for playing the game you win: \", prize ,\"Points\")\n",
    "                break\n",
    "            \n",
    "        elif life_line == 2:\n",
    "            \n",
    "            if FlipTheQuestion():\n",
    "                print('Right Answer and you win', points[i], \"Points\")\n",
    "                prize += points[i]\n",
    "                \n",
    "            else:\n",
    "                prize = points[i]\n",
    "                print(\"Wrong Answer and you are Eliminated \")\n",
    "                print()\n",
    "                print(\"Thanks for playing the game you win: \", prize ,\"Points\")\n",
    "                break\n",
    "                \n",
    "        elif life_line ==3:\n",
    "            if AudiencePoll():\n",
    "                print('Right Answer and you win', points[i], \"Points\")\n",
    "                prize += points[i]\n",
    "                \n",
    "            else:\n",
    "                prize = points[i]\n",
    "                print(\"Wrong Answer and you are Eliminated \")\n",
    "                print()\n",
    "                print(\"Thanks for playing the game you win: \", prize ,\"Points\")\n",
    "                break\n",
    "            \n",
    "                \n",
    "                \n",
    "                \n",
    "            \n",
    "        else: print(\"Wrong Input\")\n",
    "    else: print(\"Wrong Input\")\n",
    "        \n",
    "    "
   ]
  },
  {
   "cell_type": "markdown",
   "id": "64bd8eac",
   "metadata": {},
   "source": [
    "## Fifty-Fifty Lifeline"
   ]
  },
  {
   "cell_type": "code",
   "execution_count": 9,
   "id": "90330e43",
   "metadata": {},
   "outputs": [],
   "source": [
    "## import random\n",
    "# All the questions store in a list.\n",
    "question_list =  [\"Q1. The International Literacy Day is observed on\", \n",
    "                           \"Q2. The language of Lakshadweep. a Union Territory of India, is\",\n",
    "                           \"Q3. In which group of places the Kumbha Mela is held every twelve years?\" , \n",
    "                           \"Q4. Bahubali festival is related to\",\n",
    "                           \"Q5. Which day is observed as the World Standards  Day?\",\n",
    "                           \"Q6. Ghototkach in Mahabharat was the son of\",\n",
    "                           \"Q7. Which of the following Muslim festivals is based on the Holy Quran\",\n",
    "                           \"Q8. Van Mahotsav was started by\",\n",
    "                           \"Q9. The first month of the Indian national calendar is\",\n",
    "                           \"Q10. Which of the following is not a dance from Kerala?\"]\n",
    "\n",
    "# All the options followed by questions\n",
    "answer_list = [('A] 8sep' , 'B] nov 9' , 'C] dec 10' , 'D] aug 10'), \n",
    "                       ('A] Tamil','B] Hind' ,'C] Malyalam' , 'D] Telugu'),\n",
    "                       (\"A] Ujjain. Purl; Prayag. Haridwar\", \"B] Prayag. Haridwar, Ujjain,. Nasik\",\"C] Rameshwaram. Purl, Badrinath. Dwarika\",\"D]Chittakoot, Ujjain, Prayag,'Haridwar\"),\n",
    "                       (\"A] Islam\",\"B]Hinduism\",\"C] Buddhism\",\"D] Jainism\"),\n",
    "                       (\"A] June 26\", \"B] oct 14 \",\"C] nov 15\",\"D] Dec 14\"),\n",
    "                       (\"A] Duryodhana\",\"B] Arjun\",\"C] Yudhistir\",\"D] Bhim\"),\n",
    "                       (\"A] Id -ul-Zuha\",\"B] Id -ul-Fitr\",\"C] Bakri - Id\",\"D] Moharram\"),\n",
    "                       (\"A] Maharshi Karve\", \"B] Bal Gangadhar Tiiak\",\"C] K.M, Munshi\",\"D] Sanjay Gandhi\"),\n",
    "                       (\"A] Magha\",\"B] Chaitra\", \"C] Ashadha\", \"D] Vaishakha\"),\n",
    "                       (\"A] Kathakali\",\"B] Mohiniattam\", \"C] Ottan Thullal\", \"D] Yaksha Gana\")]\n",
    "\n",
    "\n",
    "\n",
    "def fifty_fifty():\n",
    "    print(question_list[i])\n",
    "    print(answer_list[i])\n",
    "    opt1 = answers[i]\n",
    "    opt2 = random.choice(answers)\n",
    "    if opt1 == opt2:\n",
    "        opt2 = random.choice(answers)\n",
    "    else:\n",
    "        print(\"Here is your options choose one of them to move further: - \", opt1, \"OR\", opt2)\n",
    "        ans2 = input(\"Enter your answer: \").upper()\n",
    "        if ans2 == opt1:\n",
    "            print(\"Right Answer\")\n",
    "            return True\n",
    "            \n",
    "        else:\n",
    "            print(\"Wrong Answer\")\n",
    "            prize = points\n",
    "            return False\n",
    "            \n",
    "            \n",
    "            \n",
    "        \n",
    "            \n",
    " \n",
    "\n",
    "\n",
    "\n",
    "    \n",
    "    \n",
    "    "
   ]
  },
  {
   "cell_type": "markdown",
   "id": "892b8dd5",
   "metadata": {},
   "source": [
    "## Flip The Question LifeLine"
   ]
  },
  {
   "cell_type": "code",
   "execution_count": 8,
   "id": "79f80047",
   "metadata": {},
   "outputs": [],
   "source": [
    "def FlipTheQuestion():\n",
    "    print(\"Q. Kalarippayat is the martial art  of the State of \")\n",
    "    print(\"A] Madhaya Pradesh\",\"B] Mizoram\",\"C] Nagaland\",\"D] Kerela\")\n",
    "    passAns = input(\"Enter your Answer: \").upper()\n",
    "    if passAns == 'D':\n",
    "        print(\"Right Answer\") \n",
    "        return True\n",
    "    else:\n",
    "        print(\"Wrong Answer\")\n",
    "        return False\n",
    "    "
   ]
  },
  {
   "cell_type": "markdown",
   "id": "45147418",
   "metadata": {},
   "source": [
    "## Audience Poll LifeLine"
   ]
  },
  {
   "cell_type": "code",
   "execution_count": 1,
   "id": "149e2311",
   "metadata": {},
   "outputs": [
    {
     "name": "stdout",
     "output_type": "stream",
     "text": [
      "A = 4\n",
      "C = 6\n",
      "B = 5\n",
      "D = 5\n",
      "Enter your answer: a\n"
     ]
    },
    {
     "ename": "NameError",
     "evalue": "name 'answers' is not defined",
     "output_type": "error",
     "traceback": [
      "\u001b[1;31m---------------------------------------------------------------------------\u001b[0m",
      "\u001b[1;31mNameError\u001b[0m                                 Traceback (most recent call last)",
      "Cell \u001b[1;32mIn[1], line 32\u001b[0m\n\u001b[0;32m     26\u001b[0m         \u001b[38;5;28mprint\u001b[39m(\u001b[38;5;124m\"\u001b[39m\u001b[38;5;124mWrong Answer\u001b[39m\u001b[38;5;124m\"\u001b[39m)\n\u001b[0;32m     27\u001b[0m         \u001b[38;5;28;01mreturn\u001b[39;00m \u001b[38;5;28;01mFalse\u001b[39;00m\n\u001b[1;32m---> 32\u001b[0m \u001b[43mAudiencePoll\u001b[49m\u001b[43m(\u001b[49m\u001b[43m)\u001b[49m\n",
      "Cell \u001b[1;32mIn[1], line 22\u001b[0m, in \u001b[0;36mAudiencePoll\u001b[1;34m()\u001b[0m\n\u001b[0;32m     19\u001b[0m     \u001b[38;5;28mprint\u001b[39m(key, \u001b[38;5;124m\"\u001b[39m\u001b[38;5;124m=\u001b[39m\u001b[38;5;124m\"\u001b[39m,value)\n\u001b[0;32m     21\u001b[0m ans_new \u001b[38;5;241m=\u001b[39m \u001b[38;5;28minput\u001b[39m(\u001b[38;5;124m\"\u001b[39m\u001b[38;5;124mEnter your answer: \u001b[39m\u001b[38;5;124m\"\u001b[39m)\u001b[38;5;241m.\u001b[39mupper()\n\u001b[1;32m---> 22\u001b[0m \u001b[38;5;28;01mif\u001b[39;00m ans_new \u001b[38;5;241m==\u001b[39m \u001b[43manswers\u001b[49m[i]:\n\u001b[0;32m     23\u001b[0m     \u001b[38;5;28mprint\u001b[39m(\u001b[38;5;124m\"\u001b[39m\u001b[38;5;124mRight Answer\u001b[39m\u001b[38;5;124m\"\u001b[39m)\n\u001b[0;32m     24\u001b[0m     \u001b[38;5;28;01mreturn\u001b[39;00m \u001b[38;5;28;01mTrue\u001b[39;00m\n",
      "\u001b[1;31mNameError\u001b[0m: name 'answers' is not defined"
     ]
    }
   ],
   "source": [
    "# import random\n",
    "# polls = {}\n",
    "# audience = []\n",
    "# ran = [\"A\",\"B\",\"C\",\"D\"]\n",
    "\n",
    "\n",
    "# def AudiencePoll():\n",
    "#     for a in range(1,21):\n",
    "#         response = random.choice(ran)\n",
    "#         audience.append(response)\n",
    "#     #print(audience)\n",
    "    \n",
    "#     for d in audience:\n",
    "#         if d in polls:\n",
    "#             polls[d] += 1\n",
    "#         else:\n",
    "#             polls[d] = 1\n",
    "#     for key,value in polls.items():\n",
    "#         print(key, \"=\",value)\n",
    "    \n",
    "#     ans_new = input(\"Enter your answer: \").upper()\n",
    "#     if ans_new == answers[i]:\n",
    "#         print(\"Right Answer\")\n",
    "#         return True\n",
    "#     else:\n",
    "#         print(\"Wrong Answer\")\n",
    "#         return False\n",
    "    \n",
    "\n",
    "         \n",
    "\n",
    "# AudiencePoll()"
   ]
  },
  {
   "cell_type": "code",
   "execution_count": 15,
   "id": "e3252d87",
   "metadata": {},
   "outputs": [
    {
     "data": {
      "image/png": "[encoded data removed]",
      "text/plain": [
       "<Figure size 300x300 with 1 Axes>"
      ]
     },
     "metadata": {},
     "output_type": "display_data"
    },
    {
     "name": "stdout",
     "output_type": "stream",
     "text": [
      "Enter your answer: a\n",
      "Wrong Answer\n"
     ]
    },
    {
     "data": {
      "text/plain": [
       "False"
      ]
     },
     "execution_count": 15,
     "metadata": {},
     "output_type": "execute_result"
    }
   ],
   "source": [
    "import random\n",
    "import matplotlib.pyplot as plt\n",
    "polls = {}\n",
    "audience = []\n",
    "ran = [\"A\",\"B\",\"C\",\"D\"]\n",
    "def AudiencePoll():\n",
    "    for a in range(1,21):\n",
    "        response = random.choice(ran)\n",
    "        audience.append(response)\n",
    "    # print(audience)\n",
    "    for d in audience:\n",
    "        if d in polls:\n",
    "            polls[d] += 1\n",
    "        else:\n",
    "            polls[d] = 1\n",
    "    # for key,value in polls.items():\n",
    "    #     print(key, \"=\",value)\n",
    "\n",
    "    option = list(polls.keys())\n",
    "    ans =  list(polls.values())\n",
    "    fig = plt.figure(figsize = (3, 3))\n",
    "    plt.xlabel('Options')\n",
    "    plt.ylabel('Number of People')\n",
    "    plt.title('Audience poll')\n",
    "    plt.bar(option,ans,color='lightblue')\n",
    "    plt.show()\n",
    "    ans_new = input(\"Enter your answer: \").upper()\n",
    "    if ans_new == answers[i]:\n",
    "        print(\"Right Answer\")\n",
    "        return True\n",
    "    else:\n",
    "        print(\"Wrong Answer\")\n",
    "        return False\n",
    "    \n",
    "AudiencePoll()"
   ]
  },
  {
   "cell_type": "code",
   "execution_count": null,
   "id": "da2d9630",
   "metadata": {},
   "outputs": [],
   "source": []
  }
 ],
 "metadata": {
  "kernelspec": {
   "display_name": "Python 3 (ipykernel)",
   "language": "python",
   "name": "python3"
  },
  "language_info": {
   "codemirror_mode": {
    "name": "ipython",
    "version": 3
   },
   "file_extension": ".py",
   "mimetype": "text/x-python",
   "name": "python",
   "nbconvert_exporter": "python",
   "pygments_lexer": "ipython3",
   "version": "3.10.11"
  }
 },
 "nbformat": 4,
 "nbformat_minor": 5
}
